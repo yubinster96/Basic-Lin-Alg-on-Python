{
 "cells": [
  {
   "cell_type": "code",
   "execution_count": 2,
   "id": "2c972178-922a-4897-9e31-d0daae07a0b5",
   "metadata": {
    "tags": []
   },
   "outputs": [],
   "source": [
    "import numpy as np"
   ]
  },
  {
   "cell_type": "code",
   "execution_count": 3,
   "id": "f56fb1c8-9c6c-4646-8eb0-86707b3a4e7f",
   "metadata": {
    "tags": []
   },
   "outputs": [
    {
     "data": {
      "text/plain": [
       "array([[30, 24]])"
      ]
     },
     "execution_count": 3,
     "metadata": {},
     "output_type": "execute_result"
    }
   ],
   "source": [
    "a = np.array([[10,15]])\n",
    "b = np.array([[20,9]])\n",
    "a+b"
   ]
  },
  {
   "cell_type": "code",
   "execution_count": 4,
   "id": "3b76d8a5-db23-462c-a550-5e2a6f74e463",
   "metadata": {
    "tags": []
   },
   "outputs": [
    {
     "name": "stdout",
     "output_type": "stream",
     "text": [
      "[[10 15]]\n"
     ]
    }
   ],
   "source": [
    "print(a)"
   ]
  },
  {
   "cell_type": "code",
   "execution_count": 5,
   "id": "d7966190-1669-4148-bff9-eafa4f69cc3e",
   "metadata": {
    "tags": []
   },
   "outputs": [
    {
     "data": {
      "text/plain": [
       "array([[30],\n",
       "       [24]])"
      ]
     },
     "execution_count": 5,
     "metadata": {},
     "output_type": "execute_result"
    }
   ],
   "source": [
    "a.T + b.T"
   ]
  },
  {
   "cell_type": "code",
   "execution_count": 6,
   "id": "74536b00-3b6b-48cd-b85d-287a91ff1212",
   "metadata": {
    "tags": []
   },
   "outputs": [
    {
     "data": {
      "text/plain": [
       "array([[-10,   6]])"
      ]
     },
     "execution_count": 6,
     "metadata": {},
     "output_type": "execute_result"
    }
   ],
   "source": [
    "#subtract 2 vectors\n",
    "a-b"
   ]
  },
  {
   "cell_type": "code",
   "execution_count": 7,
   "id": "c385faa4-da93-4bd1-a163-8e3cd0c20185",
   "metadata": {
    "tags": []
   },
   "outputs": [
    {
     "data": {
      "text/plain": [
       "array([[-10],\n",
       "       [  6]])"
      ]
     },
     "execution_count": 7,
     "metadata": {},
     "output_type": "execute_result"
    }
   ],
   "source": [
    "(a-b).T"
   ]
  },
  {
   "cell_type": "code",
   "execution_count": 8,
   "id": "b6ca5b66-28bc-4227-8d69-4e980830e103",
   "metadata": {
    "tags": []
   },
   "outputs": [
    {
     "data": {
      "text/plain": [
       "array([[60, 30]])"
      ]
     },
     "execution_count": 8,
     "metadata": {},
     "output_type": "execute_result"
    }
   ],
   "source": [
    "#scalar multioplication\n",
    "a=2\n",
    "u=np.array([[30,15]])\n",
    "(a*u)"
   ]
  },
  {
   "cell_type": "code",
   "execution_count": 10,
   "id": "e1a56360-7328-4257-a0b4-ffdadad142fc",
   "metadata": {
    "tags": []
   },
   "outputs": [
    {
     "name": "stdout",
     "output_type": "stream",
     "text": [
      "370\n"
     ]
    },
    {
     "data": {
      "text/plain": [
       "370"
      ]
     },
     "execution_count": 10,
     "metadata": {},
     "output_type": "execute_result"
    }
   ],
   "source": [
    "#dot product for 2 vectors\n",
    "#for 2D vectors it is the equiv to matrix multiplication\n",
    "\n",
    "u=np.array([10,20])\n",
    "v=np.array([25,6])\n",
    "print(10*25+20*6)\n",
    "np.dot(u,v)"
   ]
  },
  {
   "cell_type": "code",
   "execution_count": 18,
   "id": "d6e5f0c3-2bf0-4e4f-9638-284747209488",
   "metadata": {
    "tags": []
   },
   "outputs": [
    {
     "name": "stdout",
     "output_type": "stream",
     "text": [
      "[[12 10]\n",
      " [ 4  6]\n",
      " [40 31]]\n",
      "[[ 2  8]\n",
      " [46 63]\n",
      " [50 10]]\n"
     ]
    }
   ],
   "source": [
    "#matrix addition\n",
    "a=np.array([[12,10],[4,6],[40,31],])\n",
    "b=np.array([[2,8],[46,63],[50,10],])\n",
    "print(a)\n",
    "print(b)"
   ]
  },
  {
   "cell_type": "code",
   "execution_count": 15,
   "id": "56a22760-4dee-40f4-a806-71462ddd3e09",
   "metadata": {
    "tags": []
   },
   "outputs": [
    {
     "name": "stdout",
     "output_type": "stream",
     "text": [
      "[[12 10]\n",
      " [ 4  6]\n",
      " [40 31]] = a\n",
      "\n"
     ]
    }
   ],
   "source": [
    "print(a, end= \" = a\\n\\n\")"
   ]
  },
  {
   "cell_type": "code",
   "execution_count": 16,
   "id": "f3c55d95-0abc-4c6b-bd51-73c2668d5ed7",
   "metadata": {
    "tags": []
   },
   "outputs": [
    {
     "data": {
      "text/plain": [
       "array([[14, 18],\n",
       "       [50, 69],\n",
       "       [90, 41]])"
      ]
     },
     "execution_count": 16,
     "metadata": {},
     "output_type": "execute_result"
    }
   ],
   "source": [
    "a+b"
   ]
  },
  {
   "cell_type": "code",
   "execution_count": 17,
   "id": "ae022e57-ed18-46e0-86b3-33a54224e00c",
   "metadata": {
    "tags": []
   },
   "outputs": [
    {
     "data": {
      "text/plain": [
       "array([[ 10,   2],\n",
       "       [-42, -57],\n",
       "       [-10,  21]])"
      ]
     },
     "execution_count": 17,
     "metadata": {},
     "output_type": "execute_result"
    }
   ],
   "source": [
    "a-b"
   ]
  },
  {
   "cell_type": "code",
   "execution_count": 19,
   "id": "35e4a6f2-b642-42d2-a9ba-a332c125124e",
   "metadata": {
    "tags": []
   },
   "outputs": [
    {
     "data": {
      "text/plain": [
       "array([170, 390])"
      ]
     },
     "execution_count": 19,
     "metadata": {},
     "output_type": "execute_result"
    }
   ],
   "source": [
    "#matrix and vector multiplication\n",
    "a=[[5,10],[15,20]]\n",
    "b=[10,12]\n",
    "np.dot(a,b)"
   ]
  },
  {
   "cell_type": "code",
   "execution_count": 20,
   "id": "039db9fc-5eac-41ec-b896-97ab6b6dba8c",
   "metadata": {
    "tags": []
   },
   "outputs": [
    {
     "data": {
      "text/plain": [
       "array([[105,  80],\n",
       "       [225, 190],\n",
       "       [345, 300]])"
      ]
     },
     "execution_count": 20,
     "metadata": {},
     "output_type": "execute_result"
    }
   ],
   "source": [
    "#matrix to matrix multiplication\n",
    "a=[[5,10],[15,20],[25,30]]\n",
    "b=[[3,6],[9,5]]\n",
    "np.dot(a,b)"
   ]
  },
  {
   "cell_type": "code",
   "execution_count": 22,
   "id": "48b1e81f-d862-44f9-aba0-b51e9503f949",
   "metadata": {
    "tags": []
   },
   "outputs": [
    {
     "name": "stdout",
     "output_type": "stream",
     "text": [
      "[[ 5 10]\n",
      " [15 20]\n",
      " [25 30]] = a\n",
      "\n",
      "[[ 5 15 25]\n",
      " [10 20 30]] = aT"
     ]
    }
   ],
   "source": [
    "#transpose matrix\n",
    "a=np.array([[5,10],[15,20],[25,30]])\n",
    "print(a,end = \" = a\\n\\n\")\n",
    "print(a.T,end = \" = aT\")"
   ]
  },
  {
   "cell_type": "code",
   "execution_count": 23,
   "id": "3672e188-1782-4182-a7a2-2cdb6a608cc2",
   "metadata": {
    "tags": []
   },
   "outputs": [
    {
     "name": "stdout",
     "output_type": "stream",
     "text": [
      "[[1. 0.]\n",
      " [0. 1.]] = I1\n",
      "\n",
      "[[1. 0. 0.]\n",
      " [0. 1. 0.]\n",
      " [0. 0. 1.]] = I2\n",
      "\n"
     ]
    }
   ],
   "source": [
    "#create identity matrix\n",
    "\n",
    "I1=np.eye(2)\n",
    "I2=np.eye(3)\n",
    "print(I1, end = \" = I1\\n\\n\")\n",
    "print(I2, end = \" = I2\\n\\n\")"
   ]
  },
  {
   "cell_type": "code",
   "execution_count": 29,
   "id": "06d2acdf-43ca-44b5-a627-65c6e582eb4b",
   "metadata": {
    "tags": []
   },
   "outputs": [
    {
     "name": "stdout",
     "output_type": "stream",
     "text": [
      "[[2 1 0]\n",
      " [0 1 0]\n",
      " [1 2 1]] = a\n",
      "\n",
      "[[ 0.5 -0.5  0. ]\n",
      " [ 0.   1.   0. ]\n",
      " [-0.5 -1.5  1. ]] = l a l "
     ]
    }
   ],
   "source": [
    "#inverse a matrix\n",
    "#give a square matrix a, return matrix a inverse satisfying dot (a,ainv) = dot (ainv,a) = eye(a.shape[0])\n",
    "a = np.array([\n",
    "    [2, 1, 0],\n",
    "    [0, 1, 0],\n",
    "    [1, 2, 1],\n",
    "])\n",
    "print (a, end = \" = a\\n\\n\")\n",
    "print(np.linalg.inv(a), end = \" = l a l \")"
   ]
  },
  {
   "cell_type": "code",
   "execution_count": null,
   "id": "b1b10ace-1be2-4691-837b-8ec7007a54dd",
   "metadata": {},
   "outputs": [],
   "source": []
  }
 ],
 "metadata": {
  "kernelspec": {
   "display_name": "Python 3 (ipykernel)",
   "language": "python",
   "name": "python3"
  },
  "language_info": {
   "codemirror_mode": {
    "name": "ipython",
    "version": 3
   },
   "file_extension": ".py",
   "mimetype": "text/x-python",
   "name": "python",
   "nbconvert_exporter": "python",
   "pygments_lexer": "ipython3",
   "version": "3.11.5"
  }
 },
 "nbformat": 4,
 "nbformat_minor": 5
}
